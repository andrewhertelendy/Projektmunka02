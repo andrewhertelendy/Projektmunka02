{
 "cells": [
  {
   "cell_type": "code",
   "execution_count": 1,
   "metadata": {},
   "outputs": [
    {
     "name": "stderr",
     "output_type": "stream",
     "text": [
      "2024-05-15 23:17:40.577303: I metal_plugin/src/device/metal_device.cc:1154] Metal device set to: Apple M1 Pro\n",
      "2024-05-15 23:17:40.577333: I metal_plugin/src/device/metal_device.cc:296] systemMemory: 16.00 GB\n",
      "2024-05-15 23:17:40.577341: I metal_plugin/src/device/metal_device.cc:313] maxCacheSize: 5.33 GB\n",
      "2024-05-15 23:17:40.577382: I tensorflow/core/common_runtime/pluggable_device/pluggable_device_factory.cc:303] Could not identify NUMA node of platform GPU ID 0, defaulting to 0. Your kernel may not have been built with NUMA support.\n",
      "2024-05-15 23:17:40.577400: I tensorflow/core/common_runtime/pluggable_device/pluggable_device_factory.cc:269] Created TensorFlow device (/job:localhost/replica:0/task:0/device:GPU:0 with 0 MB memory) -> physical PluggableDevice (device: 0, name: METAL, pci bus id: <undefined>)\n"
     ]
    },
    {
     "name": "stdout",
     "output_type": "stream",
     "text": [
      "Epoch 1/10\n"
     ]
    },
    {
     "name": "stderr",
     "output_type": "stream",
     "text": [
      "2024-05-15 23:17:41.434622: I tensorflow/core/grappler/optimizers/custom_graph_optimizer_registry.cc:114] Plugin optimizer for device_type GPU is enabled.\n"
     ]
    },
    {
     "name": "stdout",
     "output_type": "stream",
     "text": [
      "562/562 [==============================] - ETA: 0s - loss: 0.6735 - accuracy: 0.5697"
     ]
    },
    {
     "name": "stderr",
     "output_type": "stream",
     "text": [
      "2024-05-15 23:18:01.910291: I tensorflow/core/grappler/optimizers/custom_graph_optimizer_registry.cc:114] Plugin optimizer for device_type GPU is enabled.\n"
     ]
    },
    {
     "name": "stdout",
     "output_type": "stream",
     "text": [
      "562/562 [==============================] - 24s 38ms/step - loss: 0.6735 - accuracy: 0.5697 - val_loss: 0.6467 - val_accuracy: 0.6150\n",
      "Epoch 2/10\n",
      "562/562 [==============================] - 20s 35ms/step - loss: 0.6481 - accuracy: 0.6187 - val_loss: 0.6337 - val_accuracy: 0.6300\n",
      "Epoch 3/10\n",
      "562/562 [==============================] - 20s 35ms/step - loss: 0.6439 - accuracy: 0.6201 - val_loss: 0.6475 - val_accuracy: 0.6309\n",
      "Epoch 4/10\n",
      "562/562 [==============================] - 20s 35ms/step - loss: 0.6435 - accuracy: 0.6220 - val_loss: 0.6342 - val_accuracy: 0.6261\n",
      "Epoch 5/10\n",
      "562/562 [==============================] - 20s 35ms/step - loss: 0.6427 - accuracy: 0.6277 - val_loss: 0.6319 - val_accuracy: 0.6374\n",
      "Epoch 6/10\n",
      "562/562 [==============================] - 20s 35ms/step - loss: 0.6382 - accuracy: 0.6328 - val_loss: 0.6285 - val_accuracy: 0.6391\n",
      "Epoch 7/10\n",
      "562/562 [==============================] - 20s 35ms/step - loss: 0.6340 - accuracy: 0.6381 - val_loss: 0.6271 - val_accuracy: 0.6477\n",
      "Epoch 8/10\n",
      "562/562 [==============================] - 20s 35ms/step - loss: 0.6281 - accuracy: 0.6448 - val_loss: 0.6237 - val_accuracy: 0.6544\n",
      "Epoch 9/10\n",
      "562/562 [==============================] - 20s 35ms/step - loss: 0.6262 - accuracy: 0.6449 - val_loss: 0.6266 - val_accuracy: 0.6427\n",
      "Epoch 10/10\n",
      "562/562 [==============================] - 20s 35ms/step - loss: 0.6255 - accuracy: 0.6474 - val_loss: 0.6204 - val_accuracy: 0.6544\n",
      "   5/1016 [..............................] - ETA: 13s "
     ]
    },
    {
     "name": "stderr",
     "output_type": "stream",
     "text": [
      "2024-05-15 23:21:02.186632: I tensorflow/core/grappler/optimizers/custom_graph_optimizer_registry.cc:114] Plugin optimizer for device_type GPU is enabled.\n"
     ]
    },
    {
     "name": "stdout",
     "output_type": "stream",
     "text": [
      "1016/1016 [==============================] - 13s 12ms/step\n"
     ]
    },
    {
     "data": {
      "image/png": "[encoded data removed]",
      "text/plain": [
       "<Figure size 640x480 with 2 Axes>"
      ]
     },
     "metadata": {},
     "output_type": "display_data"
    }
   ],
   "source": [
    "import numpy as np\n",
    "import pandas as pd\n",
    "from sklearn.model_selection import train_test_split\n",
    "from sklearn.preprocessing import StandardScaler\n",
    "from sklearn.metrics import confusion_matrix, ConfusionMatrixDisplay\n",
    "from sklearn.utils.class_weight import compute_class_weight\n",
    "from imblearn.over_sampling import SMOTE\n",
    "import tensorflow as tf\n",
    "from tensorflow.keras.models import Sequential\n",
    "from tensorflow.keras.layers import Dense, LayerNormalization, Dropout\n",
    "from tensorflow.keras.callbacks import EarlyStopping\n",
    "from tensorflow.keras.layers import MultiHeadAttention, Input, Add\n",
    "import matplotlib.pyplot as plt\n",
    "\n",
    "# Load manually selected training and testing CSV files\n",
    "train_files = ['Data/29_tracks_labeled.csv', 'Data/27_tracks_labeled.csv', 'Data/25_tracks_labeled.csv', 'Data/22_tracks_labeled.csv', 'Data/20_tracks_labeled.csv']  # Add your training files here\n",
    "test_files = ['Data/28_tracks_labeled.csv', 'Data/26_tracks_labeled.csv', 'Data/21_tracks_labeled.csv']  # Add your testing files here\n",
    "\n",
    "# Load and concatenate training data\n",
    "train_data = pd.concat([pd.read_csv(file) for file in train_files], ignore_index=True)\n",
    "\n",
    "# Load and concatenate testing data\n",
    "test_data = pd.concat([pd.read_csv(file) for file in test_files], ignore_index=True)\n",
    "\n",
    "# Assuming the datasets have been properly labeled and contain the 'stopped_before_pedestrian' column\n",
    "features_cols = [\n",
    "    'xCenter', 'yCenter', 'xVelocity', 'yVelocity'\n",
    "]\n",
    "\n",
    "# Group data by 'frame' to consider all participants in a frame\n",
    "def create_frame_sequences(data, features, label_col):\n",
    "    sequences = []\n",
    "    labels = []\n",
    "    grouped = data.groupby('frame')\n",
    "    for frame, group in grouped:\n",
    "        seq = group[features].values\n",
    "        lbl = group[label_col].max()  # Use max as a label for the frame; change as needed\n",
    "        sequences.append(seq)\n",
    "        labels.append(lbl)\n",
    "    return sequences, labels\n",
    "\n",
    "X_train_seq, y_train_seq = create_frame_sequences(train_data, features_cols, 'stopped_before_pedestrian')\n",
    "X_test_seq, y_test_seq = create_frame_sequences(test_data, features_cols, 'stopped_before_pedestrian')\n",
    "\n",
    "# Pad sequences to the same length\n",
    "from tensorflow.keras.preprocessing.sequence import pad_sequences\n",
    "max_seq_len = max(max(len(seq) for seq in X_train_seq), max(len(seq) for seq in X_test_seq))\n",
    "X_train_seq = pad_sequences(X_train_seq, maxlen=max_seq_len, dtype='float32', padding='post', truncating='post')\n",
    "X_test_seq = pad_sequences(X_test_seq, maxlen=max_seq_len, dtype='float32', padding='post', truncating='post')\n",
    "\n",
    "# Normalize features\n",
    "scaler = StandardScaler()\n",
    "X_train_seq = scaler.fit_transform(X_train_seq.reshape(-1, X_train_seq.shape[-1])).reshape(X_train_seq.shape)\n",
    "X_test_seq = scaler.transform(X_test_seq.reshape(-1, X_test_seq.shape[-1])).reshape(X_test_seq.shape)\n",
    "\n",
    "# Apply SMOTE to balance the training data\n",
    "X_train_flat = X_train_seq.reshape((X_train_seq.shape[0], -1))\n",
    "smote = SMOTE(random_state=42)\n",
    "X_train_resampled, y_train_resampled = smote.fit_resample(X_train_flat, y_train_seq)\n",
    "X_train_resampled = X_train_resampled.reshape((X_train_resampled.shape[0], max_seq_len, X_train_seq.shape[-1]))\n",
    "\n",
    "# Compute class weights for resampled data\n",
    "class_weights_resampled = compute_class_weight('balanced', classes=np.unique(y_train_resampled), y=y_train_resampled)\n",
    "class_weight_dict_resampled = dict(enumerate(class_weights_resampled))\n",
    "\n",
    "# Create validation split manually\n",
    "X_train_final, X_val, y_train_final, y_val = train_test_split(X_train_resampled, y_train_resampled, test_size=0.2, random_state=42)\n",
    "\n",
    "# Convert labels to numpy arrays\n",
    "y_train_final = np.array(y_train_final)\n",
    "y_val = np.array(y_val)\n",
    "\n",
    "# Transformer model\n",
    "class TransformerBlock(tf.keras.layers.Layer):\n",
    "    def __init__(self, embed_dim, num_heads, ff_dim, rate=0.1):\n",
    "        super(TransformerBlock, self).__init__()\n",
    "        self.att = MultiHeadAttention(num_heads=num_heads, key_dim=embed_dim)\n",
    "        self.ffn = Sequential(\n",
    "            [Dense(ff_dim, activation=\"relu\"), Dense(embed_dim),]\n",
    "        )\n",
    "        self.layernorm1 = LayerNormalization(epsilon=1e-6)\n",
    "        self.layernorm2 = LayerNormalization(epsilon=1e-6)\n",
    "        self.dropout1 = Dropout(rate)\n",
    "        self.dropout2 = Dropout(rate)\n",
    "\n",
    "    def call(self, inputs, training):\n",
    "        attn_output = self.att(inputs, inputs)\n",
    "        attn_output = self.dropout1(attn_output, training=training)\n",
    "        out1 = self.layernorm1(inputs + attn_output)\n",
    "        ffn_output = self.ffn(out1)\n",
    "        ffn_output = self.dropout2(ffn_output, training=training)\n",
    "        return self.layernorm2(out1 + ffn_output)\n",
    "\n",
    "# Model architecture\n",
    "embed_dim = X_train_final.shape[-1]  # Embedding size for each token\n",
    "num_heads = 2  # Number of attention heads\n",
    "ff_dim = 32  # Hidden layer size in feed forward network inside transformer\n",
    "\n",
    "inputs = Input(shape=(max_seq_len, X_train_final.shape[-1]))\n",
    "transformer_block = TransformerBlock(embed_dim, num_heads, ff_dim)\n",
    "x = transformer_block(inputs)\n",
    "x = tf.keras.layers.GlobalAveragePooling1D()(x)\n",
    "x = Dropout(0.1)(x)\n",
    "x = Dense(20, activation=\"relu\")(x)\n",
    "x = Dropout(0.1)(x)\n",
    "outputs = Dense(1, activation=\"sigmoid\")(x)\n",
    "\n",
    "model = tf.keras.Model(inputs=inputs, outputs=outputs)\n",
    "\n",
    "model.compile(optimizer='adam', loss='binary_crossentropy', metrics=['accuracy'])\n",
    "\n",
    "# Early stopping to prevent overfitting\n",
    "early_stopping = EarlyStopping(monitor='val_loss', patience=3)\n",
    "\n",
    "# Train the model\n",
    "model.fit(X_train_final, y_train_final, epochs=10, batch_size=64, validation_data=(X_val, y_val), class_weight=class_weight_dict_resampled, callbacks=[early_stopping])\n",
    "\n",
    "# Predictions\n",
    "y_pred = model.predict(X_test_seq)\n",
    "y_pred = (y_pred > 0.5).astype(int)\n",
    "\n",
    "# Confusion Matrix\n",
    "cm = confusion_matrix(y_test_seq, y_pred)\n",
    "disp = ConfusionMatrixDisplay(confusion_matrix=cm)\n",
    "disp.plot()\n",
    "plt.show()\n"
   ]
  }
 ],
 "metadata": {
  "kernelspec": {
   "display_name": "Python 3",
   "language": "python",
   "name": "python3"
  },
  "language_info": {
   "codemirror_mode": {
    "name": "ipython",
    "version": 3
   },
   "file_extension": ".py",
   "mimetype": "text/x-python",
   "name": "python",
   "nbconvert_exporter": "python",
   "pygments_lexer": "ipython3",
   "version": "3.8.19"
  }
 },
 "nbformat": 4,
 "nbformat_minor": 2
}
