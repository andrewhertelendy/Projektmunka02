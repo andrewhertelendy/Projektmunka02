{
 "cells": [
  {
   "cell_type": "code",
   "execution_count": 7,
   "metadata": {},
   "outputs": [
    {
     "name": "stdout",
     "output_type": "stream",
     "text": [
      "There are 5152 ones in the labels.\n",
      "Epoch 1/3\n"
     ]
    },
    {
     "name": "stderr",
     "output_type": "stream",
     "text": [
      "2024-05-06 14:01:07.677372: I tensorflow/core/grappler/optimizers/custom_graph_optimizer_registry.cc:114] Plugin optimizer for device_type GPU is enabled.\n",
      "2024-05-06 14:01:08.137123: I tensorflow/core/grappler/optimizers/custom_graph_optimizer_registry.cc:114] Plugin optimizer for device_type GPU is enabled.\n",
      "2024-05-06 14:01:08.153931: I tensorflow/core/grappler/optimizers/custom_graph_optimizer_registry.cc:114] Plugin optimizer for device_type GPU is enabled.\n",
      "2024-05-06 14:01:08.443960: I tensorflow/core/grappler/optimizers/custom_graph_optimizer_registry.cc:114] Plugin optimizer for device_type GPU is enabled.\n",
      "2024-05-06 14:01:08.460419: I tensorflow/core/grappler/optimizers/custom_graph_optimizer_registry.cc:114] Plugin optimizer for device_type GPU is enabled.\n",
      "2024-05-06 14:01:08.783633: I tensorflow/core/grappler/optimizers/custom_graph_optimizer_registry.cc:114] Plugin optimizer for device_type GPU is enabled.\n",
      "2024-05-06 14:01:08.808898: I tensorflow/core/grappler/optimizers/custom_graph_optimizer_registry.cc:114] Plugin optimizer for device_type GPU is enabled.\n",
      "2024-05-06 14:01:09.194134: I tensorflow/core/grappler/optimizers/custom_graph_optimizer_registry.cc:114] Plugin optimizer for device_type GPU is enabled.\n",
      "2024-05-06 14:01:09.218786: I tensorflow/core/grappler/optimizers/custom_graph_optimizer_registry.cc:114] Plugin optimizer for device_type GPU is enabled.\n"
     ]
    },
    {
     "name": "stdout",
     "output_type": "stream",
     "text": [
      "13/13 [==============================] - ETA: 0s - loss: 0.2219 - accuracy: 0.9744 - precision_2: 0.9744 - recall_2: 0.9744 - F1Score: 0.9760"
     ]
    },
    {
     "name": "stderr",
     "output_type": "stream",
     "text": [
      "2024-05-06 14:01:11.376694: I tensorflow/core/grappler/optimizers/custom_graph_optimizer_registry.cc:114] Plugin optimizer for device_type GPU is enabled.\n",
      "2024-05-06 14:01:11.538987: I tensorflow/core/grappler/optimizers/custom_graph_optimizer_registry.cc:114] Plugin optimizer for device_type GPU is enabled.\n",
      "2024-05-06 14:01:11.552115: I tensorflow/core/grappler/optimizers/custom_graph_optimizer_registry.cc:114] Plugin optimizer for device_type GPU is enabled.\n",
      "2024-05-06 14:01:11.630420: I tensorflow/core/grappler/optimizers/custom_graph_optimizer_registry.cc:114] Plugin optimizer for device_type GPU is enabled.\n",
      "2024-05-06 14:01:11.643132: I tensorflow/core/grappler/optimizers/custom_graph_optimizer_registry.cc:114] Plugin optimizer for device_type GPU is enabled.\n"
     ]
    },
    {
     "name": "stdout",
     "output_type": "stream",
     "text": [
      "13/13 [==============================] - 7s 204ms/step - loss: 0.2219 - accuracy: 0.9744 - precision_2: 0.9744 - recall_2: 0.9744 - F1Score: 0.9760 - val_loss: 0.0291 - val_accuracy: 1.0000 - val_precision_2: 1.0000 - val_recall_2: 1.0000 - val_F1Score: 1.0000\n",
      "Epoch 2/3\n",
      "13/13 [==============================] - 1s 71ms/step - loss: 0.1189 - accuracy: 0.9923 - precision_2: 0.9923 - recall_2: 0.9923 - F1Score: 0.9928 - val_loss: 0.0116 - val_accuracy: 1.0000 - val_precision_2: 1.0000 - val_recall_2: 1.0000 - val_F1Score: 1.0000\n",
      "Epoch 3/3\n",
      "13/13 [==============================] - 1s 72ms/step - loss: 0.1113 - accuracy: 0.9923 - precision_2: 0.9923 - recall_2: 0.9923 - F1Score: 0.9928 - val_loss: 0.0135 - val_accuracy: 1.0000 - val_precision_2: 1.0000 - val_recall_2: 1.0000 - val_F1Score: 1.0000\n",
      "4/4 [==============================] - 1s 172ms/step - loss: 0.0135 - accuracy: 1.0000 - precision_2: 1.0000 - recall_2: 1.0000 - F1Score: 1.0000\n",
      "Test Loss: 0.0135\n",
      "Test Accuracy: 100.00%\n",
      "Test Precision: 100.00%\n",
      "Test Recall: 100.00%\n",
      "Test F1 Score: 1.0000\n"
     ]
    },
    {
     "name": "stderr",
     "output_type": "stream",
     "text": [
      "2024-05-06 14:01:14.968172: I tensorflow/core/grappler/optimizers/custom_graph_optimizer_registry.cc:114] Plugin optimizer for device_type GPU is enabled.\n",
      "2024-05-06 14:01:15.095164: I tensorflow/core/grappler/optimizers/custom_graph_optimizer_registry.cc:114] Plugin optimizer for device_type GPU is enabled.\n",
      "2024-05-06 14:01:15.107512: I tensorflow/core/grappler/optimizers/custom_graph_optimizer_registry.cc:114] Plugin optimizer for device_type GPU is enabled.\n"
     ]
    },
    {
     "name": "stdout",
     "output_type": "stream",
     "text": [
      "4/4 [==============================] - 1s 35ms/step\n"
     ]
    },
    {
     "name": "stderr",
     "output_type": "stream",
     "text": [
      "2024-05-06 14:01:15.191196: I tensorflow/core/grappler/optimizers/custom_graph_optimizer_registry.cc:114] Plugin optimizer for device_type GPU is enabled.\n",
      "2024-05-06 14:01:15.204655: I tensorflow/core/grappler/optimizers/custom_graph_optimizer_registry.cc:114] Plugin optimizer for device_type GPU is enabled.\n"
     ]
    },
    {
     "name": "stdout",
     "output_type": "stream",
     "text": [
      "              precision    recall  f1-score   support\n",
      "\n",
      "           0       1.00      1.00      1.00       123\n",
      "\n",
      "    accuracy                           1.00       123\n",
      "   macro avg       1.00      1.00      1.00       123\n",
      "weighted avg       1.00      1.00      1.00       123\n",
      "\n"
     ]
    },
    {
     "data": {
      "image/png": "[encoded data removed]",
      "text/plain": [
       "<Figure size 1000x700 with 2 Axes>"
      ]
     },
     "metadata": {},
     "output_type": "display_data"
    }
   ],
   "source": [
    "import pandas as pd\n",
    "from tensorflow.keras.preprocessing.sequence import pad_sequences\n",
    "import numpy as np\n",
    "from tensorflow.keras.utils import to_categorical\n",
    "from sklearn.model_selection import train_test_split\n",
    "from tensorflow.keras.layers import Bidirectional, LSTM, Dense, Input\n",
    "from tensorflow.keras.models import Sequential\n",
    "from sklearn.metrics import classification_report, confusion_matrix\n",
    "import matplotlib.pyplot as plt\n",
    "import seaborn as sns\n",
    "import tensorflow as tf\n",
    "from tensorflow.keras import backend as K\n",
    "\n",
    "tracks_df = pd.read_csv('Data/29_tracks.csv')\n",
    "tracks_meta_df = pd.read_csv('Data/28_tracksMeta.csv')\n",
    "\n",
    "tracks_df = tracks_df[tracks_df['trackId'] != 47]\n",
    "tracks_meta_df = tracks_meta_df[tracks_meta_df['trackId'] != 47]\n",
    "\n",
    "\n",
    "# df = pd.read_excel('Data/Book1.xlsx')\n",
    "# df.to_csv('Data/Book1.csv', index=False)\n",
    "\n",
    "# LABELING\n",
    "\n",
    "book1_df = pd.read_csv('Data/Book1.csv')\n",
    "\n",
    "book1_df['trackId'] = book1_df['trackId'].astype(str)\n",
    "\n",
    "tracks_df['stop_before_pedestrian'] = 0\n",
    "\n",
    "for idx, row in book1_df.iterrows():\n",
    "    track_ids = [int(id.strip()) for id in row['trackId'].split(', ') if id.strip()]\n",
    "    \n",
    "    initial_frame, ending_frame = row['initial_frame'], row['ending_frame']\n",
    "    \n",
    "    tracks_df.loc[(tracks_df['frame'].between(initial_frame, ending_frame)) & (tracks_df['trackId'].isin(track_ids)), 'stop_before_pedestrian'] = 1\n",
    "# LEARNING\n",
    "\n",
    "\n",
    "labels = tracks_df['stop_before_pedestrian']\n",
    "num_ones = np.count_nonzero(labels == 1)\n",
    "print(f\"There are {num_ones} ones in the labels.\")\n",
    "\n",
    "\n",
    "grouped = tracks_df.groupby('trackId')\n",
    "sequences = [group.drop('trackId', axis=1).values for _, group in grouped]\n",
    "\n",
    "max_sequence_length = max(len(s) for s in sequences)\n",
    "padded_sequences = pad_sequences(sequences, maxlen=max_sequence_length, padding='post', dtype='float32')\n",
    "\n",
    "# Convert labels to one-hot encoded format\n",
    "labels = np.array([group['stop_before_pedestrian'].iloc[0] for _, group in grouped])\n",
    "one_hot_labels = to_categorical(labels, num_classes=2)\n",
    "\n",
    "max_sequence_length = 100\n",
    "padded_sequences = pad_sequences(sequences, maxlen=max_sequence_length, truncating='post', padding='post', dtype='float32')\n",
    "\n",
    "X_train, X_test, y_train, y_test = train_test_split(padded_sequences, one_hot_labels, test_size=0.2, random_state=42)\n",
    "\n",
    "\n",
    "model = tf.keras.Sequential([\n",
    "    Input(shape=(max_sequence_length, feature_dim)),\n",
    "    Bidirectional(LSTM(50, return_sequences=True, dropout=0.2)),\n",
    "    Bidirectional(LSTM(30, dropout=0.2)),\n",
    "    Dense(2, activation='softmax')\n",
    "])\n",
    "\n",
    "def F1Score(y_true, y_pred):\n",
    "    # Calculating Precision\n",
    "    true_positives = K.sum(K.round(K.clip(y_true * y_pred, 0, 1)))\n",
    "    predicted_positives = K.sum(K.round(K.clip(y_pred, 0, 1)))\n",
    "    precision = true_positives / (predicted_positives + K.epsilon())\n",
    "    # Calculating Recall\n",
    "    possible_positives = K.sum(K.round(K.clip(y_true, 0, 1)))\n",
    "    recall = true_positives / (possible_positives + K.epsilon())\n",
    "    # Calculating F1 Score\n",
    "    f1_val = 2*(precision*recall)/(precision+recall+K.epsilon())\n",
    "    return f1_val\n",
    "\n",
    "model.compile(optimizer='adam',\n",
    "              loss='categorical_crossentropy',\n",
    "              metrics=['accuracy', tf.keras.metrics.Precision(), tf.keras.metrics.Recall(), F1Score])\n",
    "\n",
    "class_weights = {0: 1, 1: 3}\n",
    "\n",
    "history = model.fit(X_train, y_train, epochs=3, batch_size=32, validation_split=0.2, class_weight=class_weights)\n",
    "\n",
    "\n",
    "\n",
    "loss, accuracy, precision, recall, f1_score = model.evaluate(X_test, y_test)\n",
    "print(f\"Test Loss: {loss:.4f}\")\n",
    "print(f\"Test Accuracy: {accuracy*100:.2f}%\")\n",
    "print(f\"Test Precision: {precision*100:.2f}%\")\n",
    "print(f\"Test Recall: {recall*100:.2f}%\")\n",
    "print(f\"Test F1 Score: {f1_score:.4f}\")\n",
    "\n",
    "y_pred = model.predict(X_test)\n",
    "y_pred_classes = np.argmax(y_pred, axis=1)\n",
    "y_true_classes = np.argmax(y_test, axis=1)\n",
    "print(classification_report(y_true_classes, y_pred_classes))\n",
    "\n",
    "cm = confusion_matrix(y_true_classes, y_pred_classes)\n",
    "plt.figure(figsize=(10, 7))\n",
    "sns.heatmap(cm, annot=True, fmt='g', cmap='Blues')\n",
    "plt.xlabel('Predicted labels')\n",
    "plt.ylabel('True labels')\n",
    "plt.title('Confusion Matrix')\n",
    "plt.show()"
   ]
  }
 ],
 "metadata": {
  "kernelspec": {
   "display_name": "Python 3",
   "language": "python",
   "name": "python3"
  },
  "language_info": {
   "codemirror_mode": {
    "name": "ipython",
    "version": 3
   },
   "file_extension": ".py",
   "mimetype": "text/x-python",
   "name": "python",
   "nbconvert_exporter": "python",
   "pygments_lexer": "ipython3",
   "version": "3.8.19"
  }
 },
 "nbformat": 4,
 "nbformat_minor": 2
}
