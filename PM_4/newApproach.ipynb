{
 "cells": [
  {
   "cell_type": "code",
   "execution_count": 7,
   "metadata": {},
   "outputs": [
    {
     "name": "stdout",
     "output_type": "stream",
     "text": [
      "Looking for CSV files...\n",
      "Found 34 files\n"
     ]
    },
    {
     "name": "stderr",
     "output_type": "stream",
     "text": [
      "Loading files:   3%|▎         | 1/34 [00:00<00:05,  5.94it/s]"
     ]
    },
    {
     "name": "stdout",
     "output_type": "stream",
     "text": [
      "\n",
      "File: ./Tracks/07_tracks.csv\n",
      "Records: 201296\n",
      "Unique tracks: 212\n"
     ]
    },
    {
     "name": "stderr",
     "output_type": "stream",
     "text": [
      "Loading files:   6%|▌         | 2/34 [00:00<00:06,  4.78it/s]"
     ]
    },
    {
     "name": "stdout",
     "output_type": "stream",
     "text": [
      "\n",
      "File: ./Tracks/30_tracks.csv\n",
      "Records: 287010\n",
      "Unique tracks: 411\n"
     ]
    },
    {
     "name": "stderr",
     "output_type": "stream",
     "text": [
      "Loading files:   9%|▉         | 3/34 [00:00<00:11,  2.61it/s]"
     ]
    },
    {
     "name": "stdout",
     "output_type": "stream",
     "text": [
      "\n",
      "File: ./Tracks/21_tracks.csv\n",
      "Records: 796178\n",
      "Unique tracks: 550\n"
     ]
    },
    {
     "name": "stderr",
     "output_type": "stream",
     "text": [
      "Loading files:  12%|█▏        | 4/34 [00:01<00:10,  2.97it/s]"
     ]
    },
    {
     "name": "stdout",
     "output_type": "stream",
     "text": [
      "\n",
      "File: ./Tracks/16_tracks.csv\n",
      "Records: 352183\n",
      "Unique tracks: 450\n"
     ]
    },
    {
     "name": "stderr",
     "output_type": "stream",
     "text": [
      "Loading files:  15%|█▍        | 5/34 [00:01<00:08,  3.38it/s]"
     ]
    },
    {
     "name": "stdout",
     "output_type": "stream",
     "text": [
      "\n",
      "File: ./Tracks/13_tracks.csv\n",
      "Records: 276560\n",
      "Unique tracks: 357\n"
     ]
    },
    {
     "name": "stderr",
     "output_type": "stream",
     "text": [
      "Loading files:  21%|██        | 7/34 [00:02<00:07,  3.42it/s]"
     ]
    },
    {
     "name": "stdout",
     "output_type": "stream",
     "text": [
      "\n",
      "File: ./Tracks/24_tracks.csv\n",
      "Records: 580827\n",
      "Unique tracks: 423\n",
      "\n",
      "File: ./Tracks/02_tracks.csv\n",
      "Records: 247649\n",
      "Unique tracks: 392\n"
     ]
    },
    {
     "name": "stderr",
     "output_type": "stream",
     "text": [
      "Loading files:  24%|██▎       | 8/34 [00:02<00:11,  2.30it/s]"
     ]
    },
    {
     "name": "stdout",
     "output_type": "stream",
     "text": [
      "\n",
      "File: ./Tracks/29_tracks.csv\n",
      "Records: 1045829\n",
      "Unique tracks: 613\n"
     ]
    },
    {
     "name": "stderr",
     "output_type": "stream",
     "text": [
      "Loading files:  26%|██▋       | 9/34 [00:03<00:10,  2.43it/s]"
     ]
    },
    {
     "name": "stdout",
     "output_type": "stream",
     "text": [
      "\n",
      "File: ./Tracks/19_tracks.csv\n",
      "Records: 492008\n",
      "Unique tracks: 370\n"
     ]
    },
    {
     "name": "stderr",
     "output_type": "stream",
     "text": [
      "Loading files:  32%|███▏      | 11/34 [00:03<00:06,  3.29it/s]"
     ]
    },
    {
     "name": "stdout",
     "output_type": "stream",
     "text": [
      "\n",
      "File: ./Tracks/32_tracks.csv\n",
      "Records: 326394\n",
      "Unique tracks: 467\n",
      "\n",
      "File: ./Tracks/05_tracks.csv\n",
      "Records: 161731\n",
      "Unique tracks: 312\n"
     ]
    },
    {
     "name": "stderr",
     "output_type": "stream",
     "text": [
      "Loading files:  35%|███▌      | 12/34 [00:03<00:05,  3.74it/s]"
     ]
    },
    {
     "name": "stdout",
     "output_type": "stream",
     "text": [
      "\n",
      "File: ./Tracks/14_tracks.csv\n",
      "Records: 231445\n",
      "Unique tracks: 379\n"
     ]
    },
    {
     "name": "stderr",
     "output_type": "stream",
     "text": [
      "Loading files:  38%|███▊      | 13/34 [00:04<00:08,  2.55it/s]"
     ]
    },
    {
     "name": "stdout",
     "output_type": "stream",
     "text": [
      "\n",
      "File: ./Tracks/labeled_tracks.csv\n",
      "Records: 1045654\n",
      "Unique tracks: 612\n"
     ]
    },
    {
     "name": "stderr",
     "output_type": "stream",
     "text": [
      "Loading files:  44%|████▍     | 15/34 [00:05<00:06,  2.73it/s]"
     ]
    },
    {
     "name": "stdout",
     "output_type": "stream",
     "text": [
      "\n",
      "File: ./Tracks/23_tracks.csv\n",
      "Records: 782772\n",
      "Unique tracks: 575\n",
      "\n",
      "File: ./Tracks/08_tracks.csv\n",
      "Records: 260348\n",
      "Unique tracks: 415\n"
     ]
    },
    {
     "name": "stderr",
     "output_type": "stream",
     "text": [
      "Loading files:  50%|█████     | 17/34 [00:06<00:06,  2.76it/s]"
     ]
    },
    {
     "name": "stdout",
     "output_type": "stream",
     "text": [
      "\n",
      "File: ./Tracks/26_tracks.csv\n",
      "Records: 885145\n",
      "Unique tracks: 547\n",
      "\n",
      "File: ./Tracks/11_tracks.csv\n",
      "Records: 202702\n",
      "Unique tracks: 305\n"
     ]
    },
    {
     "name": "stderr",
     "output_type": "stream",
     "text": [
      "Loading files:  53%|█████▎    | 18/34 [00:06<00:04,  3.34it/s]"
     ]
    },
    {
     "name": "stdout",
     "output_type": "stream",
     "text": [
      "\n",
      "File: ./Tracks/00_tracks.csv\n",
      "Records: 205275\n",
      "Unique tracks: 384\n"
     ]
    },
    {
     "name": "stderr",
     "output_type": "stream",
     "text": [
      "Loading files:  56%|█████▌    | 19/34 [00:06<00:04,  3.63it/s]"
     ]
    },
    {
     "name": "stdout",
     "output_type": "stream",
     "text": [
      "\n",
      "File: ./Tracks/12_tracks.csv\n",
      "Records: 284044\n",
      "Unique tracks: 410\n"
     ]
    },
    {
     "name": "stderr",
     "output_type": "stream",
     "text": [
      "Loading files:  62%|██████▏   | 21/34 [00:07<00:03,  3.73it/s]"
     ]
    },
    {
     "name": "stdout",
     "output_type": "stream",
     "text": [
      "\n",
      "File: ./Tracks/25_tracks.csv\n",
      "Records: 672514\n",
      "Unique tracks: 539\n",
      "\n",
      "File: ./Tracks/03_tracks.csv\n",
      "Records: 170495\n",
      "Unique tracks: 304\n"
     ]
    },
    {
     "name": "stderr",
     "output_type": "stream",
     "text": [
      "Loading files:  68%|██████▊   | 23/34 [00:07<00:03,  3.10it/s]"
     ]
    },
    {
     "name": "stdout",
     "output_type": "stream",
     "text": [
      "\n",
      "File: ./Tracks/28_tracks.csv\n",
      "Records: 939476\n",
      "Unique tracks: 536\n",
      "\n",
      "File: ./Tracks/06_tracks.csv\n",
      "Records: 204465\n",
      "Unique tracks: 388\n"
     ]
    },
    {
     "name": "stderr",
     "output_type": "stream",
     "text": [
      "Loading files:  71%|███████   | 24/34 [00:08<00:02,  3.48it/s]"
     ]
    },
    {
     "name": "stdout",
     "output_type": "stream",
     "text": [
      "\n",
      "File: ./Tracks/31_tracks.csv\n",
      "Records: 290309\n",
      "Unique tracks: 401\n"
     ]
    },
    {
     "name": "stderr",
     "output_type": "stream",
     "text": [
      "Loading files:  74%|███████▎  | 25/34 [00:08<00:03,  2.98it/s]"
     ]
    },
    {
     "name": "stdout",
     "output_type": "stream",
     "text": [
      "\n",
      "File: ./Tracks/20_tracks.csv\n",
      "Records: 634916\n",
      "Unique tracks: 499\n"
     ]
    },
    {
     "name": "stderr",
     "output_type": "stream",
     "text": [
      "Loading files:  76%|███████▋  | 26/34 [00:08<00:02,  3.29it/s]"
     ]
    },
    {
     "name": "stdout",
     "output_type": "stream",
     "text": [
      "\n",
      "File: ./Tracks/17_tracks.csv\n",
      "Records: 325905\n",
      "Unique tracks: 376\n"
     ]
    },
    {
     "name": "stderr",
     "output_type": "stream",
     "text": [
      "Loading files:  82%|████████▏ | 28/34 [00:09<00:02,  2.80it/s]"
     ]
    },
    {
     "name": "stdout",
     "output_type": "stream",
     "text": [
      "\n",
      "File: ./Tracks/27_tracks.csv\n",
      "Records: 1059267\n",
      "Unique tracks: 594\n",
      "\n",
      "File: ./Tracks/10_tracks.csv\n",
      "Records: 180652\n",
      "Unique tracks: 253\n"
     ]
    },
    {
     "name": "stderr",
     "output_type": "stream",
     "text": [
      "Loading files:  85%|████████▌ | 29/34 [00:09<00:01,  3.40it/s]"
     ]
    },
    {
     "name": "stdout",
     "output_type": "stream",
     "text": [
      "\n",
      "File: ./Tracks/01_tracks.csv\n",
      "Records: 193248\n",
      "Unique tracks: 385\n"
     ]
    },
    {
     "name": "stderr",
     "output_type": "stream",
     "text": [
      "Loading files:  88%|████████▊ | 30/34 [00:10<00:01,  2.88it/s]"
     ]
    },
    {
     "name": "stdout",
     "output_type": "stream",
     "text": [
      "\n",
      "File: ./Tracks/18_tracks.csv\n",
      "Records: 625989\n",
      "Unique tracks: 427\n",
      "\n",
      "File: ./Tracks/04_tracks.csv\n",
      "Records: 98165\n",
      "Unique tracks: 182\n"
     ]
    },
    {
     "name": "stderr",
     "output_type": "stream",
     "text": [
      "Loading files:  94%|█████████▍| 32/34 [00:10<00:00,  4.02it/s]"
     ]
    },
    {
     "name": "stdout",
     "output_type": "stream",
     "text": [
      "\n",
      "File: ./Tracks/15_tracks.csv\n",
      "Records: 254543\n",
      "Unique tracks: 345\n"
     ]
    },
    {
     "name": "stderr",
     "output_type": "stream",
     "text": [
      "Loading files: 100%|██████████| 34/34 [00:11<00:00,  3.03it/s]"
     ]
    },
    {
     "name": "stdout",
     "output_type": "stream",
     "text": [
      "\n",
      "File: ./Tracks/22_tracks.csv\n",
      "Records: 753743\n",
      "Unique tracks: 562\n",
      "\n",
      "File: ./Tracks/09_tracks.csv\n",
      "Records: 152101\n",
      "Unique tracks: 236\n"
     ]
    },
    {
     "name": "stderr",
     "output_type": "stream",
     "text": [
      "\n"
     ]
    },
    {
     "name": "stdout",
     "output_type": "stream",
     "text": [
      "\n",
      "Total records: 15220838\n",
      "Total unique tracks: 613\n",
      "\n",
      "Engineering features...\n",
      "Turn frames: 15225 (0.10%)\n",
      "\n",
      "Preparing sequences...\n",
      "Features used: ['xVelocity', 'yVelocity', 'heading_change']\n",
      "Total tracks to process: 13599\n"
     ]
    },
    {
     "name": "stderr",
     "output_type": "stream",
     "text": [
      "Processing tracks: 100%|██████████| 13599/13599 [24:51<00:00,  9.11it/s]  \n"
     ]
    },
    {
     "name": "stdout",
     "output_type": "stream",
     "text": [
      "\n",
      "Valid tracks (length >= 10): 13599\n",
      "Total sequences created: 7552746\n",
      "Sequence shape: (7552746, 10, 3)\n",
      "Labels shape: (7552746,)\n",
      "Positive class (turns) in sequences: 7806 (0.10%)\n",
      "\n",
      "Training set shape: (6042196, 10, 3)\n",
      "Test set shape: (1510550, 10, 3)\n"
     ]
    },
    {
     "name": "stderr",
     "output_type": "stream",
     "text": [
      "2024-12-13 20:50:59.536015: I metal_plugin/src/device/metal_device.cc:1154] Metal device set to: Apple M1 Pro\n",
      "2024-12-13 20:50:59.536246: I metal_plugin/src/device/metal_device.cc:296] systemMemory: 16.00 GB\n",
      "2024-12-13 20:50:59.536429: I metal_plugin/src/device/metal_device.cc:313] maxCacheSize: 5.33 GB\n",
      "2024-12-13 20:50:59.536676: I tensorflow/core/common_runtime/pluggable_device/pluggable_device_factory.cc:303] Could not identify NUMA node of platform GPU ID 0, defaulting to 0. Your kernel may not have been built with NUMA support.\n",
      "2024-12-13 20:50:59.537265: I tensorflow/core/common_runtime/pluggable_device/pluggable_device_factory.cc:269] Created TensorFlow device (/job:localhost/replica:0/task:0/device:GPU:0 with 0 MB memory) -> physical PluggableDevice (device: 0, name: METAL, pci bus id: <undefined>)\n"
     ]
    },
    {
     "name": "stdout",
     "output_type": "stream",
     "text": [
      "\n",
      "Model summary:\n",
      "Model: \"sequential\"\n",
      "_________________________________________________________________\n",
      " Layer (type)                Output Shape              Param #   \n",
      "=================================================================\n",
      " lstm (LSTM)                 (None, 32)                4608      \n",
      "                                                                 \n",
      " dense (Dense)               (None, 16)                528       \n",
      "                                                                 \n",
      " dense_1 (Dense)             (None, 1)                 17        \n",
      "                                                                 \n",
      "=================================================================\n",
      "Total params: 5153 (20.13 KB)\n",
      "Trainable params: 5153 (20.13 KB)\n",
      "Non-trainable params: 0 (0.00 Byte)\n",
      "_________________________________________________________________\n",
      "\n",
      "Training model...\n",
      "Epoch 1/10\n"
     ]
    },
    {
     "name": "stderr",
     "output_type": "stream",
     "text": [
      "2024-12-13 20:51:01.329686: I tensorflow/core/grappler/optimizers/custom_graph_optimizer_registry.cc:114] Plugin optimizer for device_type GPU is enabled.\n",
      "2024-12-13 20:51:01.547650: I tensorflow/core/grappler/optimizers/custom_graph_optimizer_registry.cc:114] Plugin optimizer for device_type GPU is enabled.\n",
      "2024-12-13 20:51:01.877116: I tensorflow/core/grappler/optimizers/custom_graph_optimizer_registry.cc:114] Plugin optimizer for device_type GPU is enabled.\n"
     ]
    },
    {
     "name": "stdout",
     "output_type": "stream",
     "text": [
      "75528/75528 [==============================] - ETA: 0s - loss: 0.0017 - accuracy: 0.9997"
     ]
    },
    {
     "name": "stderr",
     "output_type": "stream",
     "text": [
      "2024-12-13 21:04:10.220087: I tensorflow/core/grappler/optimizers/custom_graph_optimizer_registry.cc:114] Plugin optimizer for device_type GPU is enabled.\n",
      "2024-12-13 21:04:10.280073: I tensorflow/core/grappler/optimizers/custom_graph_optimizer_registry.cc:114] Plugin optimizer for device_type GPU is enabled.\n"
     ]
    },
    {
     "name": "stdout",
     "output_type": "stream",
     "text": [
      "75528/75528 [==============================] - 870s 12ms/step - loss: 0.0017 - accuracy: 0.9997 - val_loss: 0.0012 - val_accuracy: 0.9998\n",
      "Epoch 2/10\n",
      "75528/75528 [==============================] - 900s 12ms/step - loss: 0.0011 - accuracy: 0.9997 - val_loss: 0.0010 - val_accuracy: 0.9998\n",
      "Epoch 3/10\n",
      "75528/75528 [==============================] - 906s 12ms/step - loss: 0.0010 - accuracy: 0.9998 - val_loss: 0.0010 - val_accuracy: 0.9998\n",
      "Epoch 4/10\n",
      "75528/75528 [==============================] - 893s 12ms/step - loss: 0.0010 - accuracy: 0.9998 - val_loss: 0.0012 - val_accuracy: 0.9997\n",
      "Epoch 5/10\n",
      "75528/75528 [==============================] - 887s 12ms/step - loss: 0.0010 - accuracy: 0.9998 - val_loss: 9.5833e-04 - val_accuracy: 0.9998\n",
      "Epoch 6/10\n",
      "75528/75528 [==============================] - 829s 11ms/step - loss: 9.9810e-04 - accuracy: 0.9998 - val_loss: 0.0011 - val_accuracy: 0.9998\n",
      "Epoch 7/10\n",
      "75528/75528 [==============================] - 828s 11ms/step - loss: 9.9278e-04 - accuracy: 0.9998 - val_loss: 0.0011 - val_accuracy: 0.9998\n",
      "Epoch 8/10\n",
      "75528/75528 [==============================] - 843s 11ms/step - loss: 9.9883e-04 - accuracy: 0.9998 - val_loss: 0.0010 - val_accuracy: 0.9997\n",
      "Epoch 9/10\n",
      "75528/75528 [==============================] - 918s 12ms/step - loss: 9.9039e-04 - accuracy: 0.9998 - val_loss: 0.0011 - val_accuracy: 0.9997\n",
      "Epoch 10/10\n",
      "75528/75528 [==============================] - 855s 11ms/step - loss: 9.8424e-04 - accuracy: 0.9998 - val_loss: 0.0010 - val_accuracy: 0.9997\n",
      "\n",
      "Evaluating model...\n",
      "    1/47205 [..............................] - ETA: 4:47:02"
     ]
    },
    {
     "name": "stderr",
     "output_type": "stream",
     "text": [
      "2024-12-13 23:16:30.619774: I tensorflow/core/grappler/optimizers/custom_graph_optimizer_registry.cc:114] Plugin optimizer for device_type GPU is enabled.\n",
      "2024-12-13 23:16:30.718642: I tensorflow/core/grappler/optimizers/custom_graph_optimizer_registry.cc:114] Plugin optimizer for device_type GPU is enabled.\n"
     ]
    },
    {
     "name": "stdout",
     "output_type": "stream",
     "text": [
      "47205/47205 [==============================] - 128s 3ms/step\n",
      "\n",
      "Classification Report:\n",
      "              precision    recall  f1-score   support\n",
      "\n",
      "           0       1.00      1.00      1.00   1508978\n",
      "           1       0.93      0.83      0.87      1572\n",
      "\n",
      "    accuracy                           1.00   1510550\n",
      "   macro avg       0.96      0.91      0.94   1510550\n",
      "weighted avg       1.00      1.00      1.00   1510550\n",
      "\n"
     ]
    },
    {
     "data": {
      "image/png": "[encoded data removed]",
      "text/plain": [
       "<Figure size 1200x400 with 3 Axes>"
      ]
     },
     "metadata": {},
     "output_type": "display_data"
    },
    {
     "name": "stdout",
     "output_type": "stream",
     "text": [
      "\n",
      "Model saved as 'turn_classifier_model.h5'\n"
     ]
    },
    {
     "name": "stderr",
     "output_type": "stream",
     "text": [
      "/Users/andrashertelendy/tensorflow-test/env/lib/python3.8/site-packages/keras/src/engine/training.py:3000: UserWarning: You are saving your model as an HDF5 file via `model.save()`. This file format is considered legacy. We recommend using instead the native Keras format, e.g. `model.save('my_model.keras')`.\n",
      "  saving_api.save_model(\n"
     ]
    }
   ],
   "source": [
    "import pandas as pd\n",
    "import numpy as np\n",
    "import glob\n",
    "from sklearn.model_selection import train_test_split\n",
    "from sklearn.metrics import confusion_matrix, classification_report\n",
    "import tensorflow as tf\n",
    "from tensorflow.keras.models import Sequential\n",
    "from tensorflow.keras.layers import LSTM, Dense\n",
    "import seaborn as sns\n",
    "import matplotlib.pyplot as plt\n",
    "from tqdm import tqdm  # for progress bars\n",
    "\n",
    "def load_and_preprocess_data(data_path):\n",
    "    \"\"\"Load all CSV files and preprocess them\"\"\"\n",
    "    print(\"Looking for CSV files...\")\n",
    "    all_files = glob.glob(data_path + \"/*_tracks.csv\")\n",
    "    print(f\"Found {len(all_files)} files\")\n",
    "    \n",
    "    df_list = []\n",
    "    for filename in tqdm(all_files, desc=\"Loading files\"):\n",
    "        df = pd.read_csv(filename)\n",
    "        print(f\"\\nFile: {filename}\")\n",
    "        print(f\"Records: {len(df)}\")\n",
    "        print(f\"Unique tracks: {df['trackId'].nunique()}\")\n",
    "        df_list.append(df)\n",
    "    \n",
    "    combined_df = pd.concat(df_list, ignore_index=True)\n",
    "    print(f\"\\nTotal records: {len(combined_df)}\")\n",
    "    print(f\"Total unique tracks: {combined_df['trackId'].nunique()}\")\n",
    "    \n",
    "    return combined_df.sort_values(['recordingId', 'trackId', 'frame']).reset_index(drop=True)\n",
    "\n",
    "def engineer_features(df):\n",
    "    \"\"\"Simplified feature engineering\"\"\"\n",
    "    print(\"\\nEngineering features...\")\n",
    "    \n",
    "    # Calculate heading change (simplified)\n",
    "    df['heading_change'] = df.groupby(['recordingId', 'trackId'])['heading'].diff().fillna(0)\n",
    "    \n",
    "    # Simple smoothing with smaller window\n",
    "    window_size = 3\n",
    "    df['smooth_heading_change'] = df.groupby(['recordingId', 'trackId'])['heading_change'].transform(\n",
    "        lambda x: x.rolling(window=window_size, min_periods=1, center=True).mean()\n",
    "    )\n",
    "    \n",
    "    # Simplified turn detection\n",
    "    threshold = 2.0  # increased threshold for clearer turn detection\n",
    "    df['is_turning'] = (abs(df['smooth_heading_change']) > threshold).astype(int)\n",
    "    \n",
    "    print(f\"Turn frames: {df['is_turning'].sum()} ({(df['is_turning'].mean()*100):.2f}%)\")\n",
    "    return df\n",
    "\n",
    "def prepare_sequences(df, sequence_length=10):  # reduced sequence length\n",
    "    \"\"\"Prepare sequences with progress bar\"\"\"\n",
    "    features = ['xVelocity', 'yVelocity', 'heading_change']  # reduced features\n",
    "    \n",
    "    print(\"\\nPreparing sequences...\")\n",
    "    print(f\"Features used: {features}\")\n",
    "    \n",
    "    sequences = []\n",
    "    labels = []\n",
    "    \n",
    "    # Get unique track identifiers\n",
    "    track_groups = df.groupby(['recordingId', 'trackId'])\n",
    "    total_groups = len(track_groups)\n",
    "    print(f\"Total tracks to process: {total_groups}\")\n",
    "    \n",
    "    # Process only tracks that are long enough\n",
    "    valid_groups = 0\n",
    "    for _, group in tqdm(track_groups, desc=\"Processing tracks\"):\n",
    "        if len(group) >= sequence_length:\n",
    "            valid_groups += 1\n",
    "            # Take every other frame to reduce data\n",
    "            stride = 2\n",
    "            for i in range(0, len(group) - sequence_length + 1, stride):\n",
    "                sequences.append(group[features].iloc[i:i+sequence_length].values)\n",
    "                labels.append(group['is_turning'].iloc[i+sequence_length-1])\n",
    "    \n",
    "    X = np.array(sequences)\n",
    "    y = np.array(labels)\n",
    "    \n",
    "    print(f\"\\nValid tracks (length >= {sequence_length}): {valid_groups}\")\n",
    "    print(f\"Total sequences created: {len(sequences)}\")\n",
    "    print(f\"Sequence shape: {X.shape}\")\n",
    "    print(f\"Labels shape: {y.shape}\")\n",
    "    print(f\"Positive class (turns) in sequences: {(y == 1).sum()} ({(y.mean()*100):.2f}%)\")\n",
    "    \n",
    "    return X, y\n",
    "\n",
    "def create_model(input_shape):\n",
    "    \"\"\"Simplified model\"\"\"\n",
    "    model = Sequential([\n",
    "        LSTM(32, input_shape=input_shape),  # single LSTM layer\n",
    "        Dense(16, activation='relu'),\n",
    "        Dense(1, activation='sigmoid')\n",
    "    ])\n",
    "    \n",
    "    model.compile(\n",
    "        optimizer='adam',\n",
    "        loss='binary_crossentropy',\n",
    "        metrics=['accuracy']\n",
    "    )\n",
    "    \n",
    "    print(\"\\nModel summary:\")\n",
    "    model.summary()\n",
    "    return model\n",
    "\n",
    "def plot_results(history, y_test, y_pred):\n",
    "    \"\"\"Plot training history and confusion matrix\"\"\"\n",
    "    # Plot training history\n",
    "    plt.figure(figsize=(12, 4))\n",
    "    \n",
    "    plt.subplot(1, 2, 1)\n",
    "    plt.plot(history.history['loss'], label='Training Loss')\n",
    "    plt.plot(history.history['val_loss'], label='Validation Loss')\n",
    "    plt.title('Model Loss')\n",
    "    plt.xlabel('Epoch')\n",
    "    plt.ylabel('Loss')\n",
    "    plt.legend()\n",
    "    \n",
    "    # Plot confusion matrix\n",
    "    plt.subplot(1, 2, 2)\n",
    "    cm = confusion_matrix(y_test, y_pred.round())\n",
    "    sns.heatmap(cm, annot=True, fmt='d', cmap='Blues')\n",
    "    plt.title('Confusion Matrix')\n",
    "    plt.ylabel('True Label')\n",
    "    plt.xlabel('Predicted Label')\n",
    "    \n",
    "    plt.tight_layout()\n",
    "    plt.show()\n",
    "\n",
    "if __name__ == \"__main__\":\n",
    "    # Load and preprocess data\n",
    "    data_path = \"./Tracks/\"\n",
    "    df = load_and_preprocess_data(data_path)\n",
    "    \n",
    "    # Engineer features\n",
    "    df = engineer_features(df)\n",
    "    \n",
    "    # Prepare sequences\n",
    "    X, y = prepare_sequences(df)\n",
    "    \n",
    "    # Split data\n",
    "    X_train, X_test, y_train, y_test = train_test_split(X, y, test_size=0.2, random_state=42)\n",
    "    print(f\"\\nTraining set shape: {X_train.shape}\")\n",
    "    print(f\"Test set shape: {X_test.shape}\")\n",
    "    \n",
    "    # Create and train model\n",
    "    model = create_model(input_shape=(X.shape[1], X.shape[2]))\n",
    "    \n",
    "    # Train model\n",
    "    print(\"\\nTraining model...\")\n",
    "    history = model.fit(\n",
    "        X_train, y_train,\n",
    "        validation_split=0.2,\n",
    "        epochs=10,  # reduced epochs\n",
    "        batch_size=64,  # increased batch size\n",
    "        verbose=1\n",
    "    )\n",
    "    \n",
    "    # Evaluate model\n",
    "    print(\"\\nEvaluating model...\")\n",
    "    y_pred = model.predict(X_test)\n",
    "    print(\"\\nClassification Report:\")\n",
    "    print(classification_report(y_test, y_pred.round()))\n",
    "    \n",
    "    # Plot results\n",
    "    plot_results(history, y_test, y_pred)\n",
    "    \n",
    "    # Save the model\n",
    "    model.save('turn_classifier_model.h5')\n",
    "    print(\"\\nModel saved as 'turn_classifier_model.h5'\")"
   ]
  }
 ],
 "metadata": {
  "kernelspec": {
   "display_name": "env",
   "language": "python",
   "name": "python3"
  },
  "language_info": {
   "codemirror_mode": {
    "name": "ipython",
    "version": 3
   },
   "file_extension": ".py",
   "mimetype": "text/x-python",
   "name": "python",
   "nbconvert_exporter": "python",
   "pygments_lexer": "ipython3",
   "version": "3.8.20"
  }
 },
 "nbformat": 4,
 "nbformat_minor": 2
}
