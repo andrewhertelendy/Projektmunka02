{
 "cells": [
  {
   "cell_type": "code",
   "execution_count": 2,
   "metadata": {},
   "outputs": [
    {
     "name": "stderr",
     "output_type": "stream",
     "text": [
      "2023-12-14 13:14:24.476796: I metal_plugin/src/device/metal_device.cc:1154] Metal device set to: Apple M1 Pro\n",
      "2023-12-14 13:14:24.476828: I metal_plugin/src/device/metal_device.cc:296] systemMemory: 16.00 GB\n",
      "2023-12-14 13:14:24.476833: I metal_plugin/src/device/metal_device.cc:313] maxCacheSize: 5.33 GB\n",
      "2023-12-14 13:14:24.476866: I tensorflow/core/common_runtime/pluggable_device/pluggable_device_factory.cc:306] Could not identify NUMA node of platform GPU ID 0, defaulting to 0. Your kernel may not have been built with NUMA support.\n",
      "2023-12-14 13:14:24.476879: I tensorflow/core/common_runtime/pluggable_device/pluggable_device_factory.cc:272] Created TensorFlow device (/job:localhost/replica:0/task:0/device:GPU:0 with 0 MB memory) -> physical PluggableDevice (device: 0, name: METAL, pci bus id: <undefined>)\n"
     ]
    },
    {
     "name": "stdout",
     "output_type": "stream",
     "text": [
      "Epoch 1/10\n"
     ]
    },
    {
     "name": "stderr",
     "output_type": "stream",
     "text": [
      "2023-12-14 13:14:28.459303: I tensorflow/core/grappler/optimizers/custom_graph_optimizer_registry.cc:117] Plugin optimizer for device_type GPU is enabled.\n"
     ]
    },
    {
     "name": "stdout",
     "output_type": "stream",
     "text": [
      "65/65 [==============================] - 61s 821ms/step - loss: 1.4909 - accuracy: 0.5792 - precision: 0.6220 - recall: 0.4659 - F1Score: 0.5107 - val_loss: 0.9697 - val_accuracy: 0.5333 - val_precision: 0.5333 - val_recall: 0.5333 - val_F1Score: 0.5245\n",
      "Epoch 2/10\n",
      "65/65 [==============================] - 52s 798ms/step - loss: 1.3610 - accuracy: 0.6229 - precision: 0.6598 - recall: 0.5766 - F1Score: 0.6143 - val_loss: 0.8767 - val_accuracy: 0.5333 - val_precision: 0.5598 - val_recall: 0.5282 - val_F1Score: 0.5419\n",
      "Epoch 3/10\n",
      "65/65 [==============================] - 52s 798ms/step - loss: 1.2054 - accuracy: 0.6885 - precision: 0.7025 - recall: 0.6564 - F1Score: 0.6766 - val_loss: 0.7293 - val_accuracy: 0.7641 - val_precision: 0.7668 - val_recall: 0.7590 - val_F1Score: 0.7581\n",
      "Epoch 4/10\n",
      "65/65 [==============================] - 52s 800ms/step - loss: 0.6876 - accuracy: 0.8533 - precision: 0.8628 - recall: 0.8340 - F1Score: 0.8460 - val_loss: 1.0396 - val_accuracy: 0.4615 - val_precision: 0.4783 - val_recall: 0.3385 - val_F1Score: 0.4153\n",
      "Epoch 5/10\n",
      "65/65 [==============================] - 52s 801ms/step - loss: 0.5942 - accuracy: 0.8726 - precision: 0.8879 - recall: 0.8662 - F1Score: 0.8766 - val_loss: 0.6646 - val_accuracy: 0.7949 - val_precision: 0.8563 - val_recall: 0.7641 - val_F1Score: 0.8061\n",
      "Epoch 6/10\n",
      "65/65 [==============================] - 52s 797ms/step - loss: 0.2370 - accuracy: 0.9627 - precision: 0.9661 - recall: 0.9524 - F1Score: 0.9589 - val_loss: 1.0500 - val_accuracy: 0.4154 - val_precision: 0.4514 - val_recall: 0.4051 - val_F1Score: 0.4371\n",
      "Epoch 7/10\n",
      "65/65 [==============================] - 52s 797ms/step - loss: 0.3010 - accuracy: 0.9344 - precision: 0.9401 - recall: 0.9292 - F1Score: 0.9345 - val_loss: 0.9709 - val_accuracy: 0.6923 - val_precision: 0.6979 - val_recall: 0.6872 - val_F1Score: 0.6613\n",
      "Epoch 8/10\n",
      "65/65 [==============================] - 52s 795ms/step - loss: 0.2942 - accuracy: 0.9228 - precision: 0.9308 - recall: 0.9176 - F1Score: 0.9245 - val_loss: 0.6508 - val_accuracy: 0.7846 - val_precision: 0.7906 - val_recall: 0.7744 - val_F1Score: 0.7827\n",
      "Epoch 9/10\n",
      "65/65 [==============================] - 52s 794ms/step - loss: 0.0777 - accuracy: 0.9923 - precision: 0.9935 - recall: 0.9910 - F1Score: 0.9918 - val_loss: 0.3646 - val_accuracy: 0.8769 - val_precision: 0.8906 - val_recall: 0.8769 - val_F1Score: 0.8879\n",
      "Epoch 10/10\n",
      "65/65 [==============================] - 52s 795ms/step - loss: 0.1355 - accuracy: 0.9807 - precision: 0.9807 - recall: 0.9794 - F1Score: 0.9801 - val_loss: 0.2890 - val_accuracy: 0.9026 - val_precision: 0.9119 - val_recall: 0.9026 - val_F1Score: 0.9105\n",
      "8/8 [==============================] - 2s 199ms/step - loss: 0.2512 - accuracy: 0.9221 - precision: 0.9215 - recall: 0.9139 - F1Score: 0.9144\n",
      "Test Loss: 0.2512\n",
      "Test Accuracy: 92.21%\n",
      "Test Precision: 92.15%\n",
      "Test Recall: 91.39%\n",
      "Test F1 Score: 0.9144\n",
      "8/8 [==============================] - 2s 189ms/step\n",
      "Test F1 Score: 0.9177\n",
      "8/8 [==============================] - 1s 186ms/step\n"
     ]
    },
    {
     "data": {
      "image/png": "[encoded data removed]",
      "text/plain": [
       "<Figure size 1000x700 with 2 Axes>"
      ]
     },
     "metadata": {},
     "output_type": "display_data"
    }
   ],
   "source": [
    "# Importing necessary libraries\n",
    "import pandas as pd\n",
    "import numpy as np\n",
    "import tensorflow as tf\n",
    "from tensorflow.keras.preprocessing.sequence import pad_sequences\n",
    "from tensorflow.keras.utils import to_categorical\n",
    "from sklearn.model_selection import train_test_split\n",
    "from tensorflow.keras.callbacks import EarlyStopping\n",
    "from tensorflow.keras.layers import Bidirectional\n",
    "from tensorflow.keras.metrics import Precision, Recall\n",
    "from tensorflow.keras import backend as K\n",
    "import matplotlib.pyplot as plt\n",
    "from sklearn.metrics import confusion_matrix\n",
    "import itertools\n",
    "import seaborn as sns\n",
    "\n",
    "# Mount Google Drive (specific to Google Colab)\n",
    "# from google.colab import drive\n",
    "# drive.mount('/content/gdrive')\n",
    "# data = pd.read_csv('/content/gdrive/MyDrive/RoadSense/01_tracks-2.csv')\n",
    "\n",
    "tracks1 = pd.read_csv('01_tracks.csv')\n",
    "tracks2 = pd.read_csv('02_tracks.csv')\n",
    "tracks3 = pd.read_csv('03_tracks.csv')\n",
    "tracks4 = pd.read_csv('04_tracks.csv')\n",
    "tracks5 = pd.read_csv('05_tracks.csv')\n",
    "\n",
    "\n",
    "def get_lane_changed_ID(data):\n",
    "    unique_ID = len(data['id'].unique())\n",
    "    r_to_l = list()\n",
    "    l_to_r = list()\n",
    "    for i in range(1, unique_ID):\n",
    "        vehicle = data.loc[data[\"id\"] == i]\n",
    "        if vehicle['laneId'].iloc[0] < 3.5 and vehicle['laneId'].iloc[0] - vehicle['laneId'].iloc[-1] > 0:\n",
    "            r_to_l.append(i)\n",
    "        if vehicle['laneId'].iloc[0] < 3.5 and vehicle['laneId'].iloc[0] - vehicle['laneId'].iloc[-1] < 0:\n",
    "            l_to_r.append(i)\n",
    "        if vehicle['laneId'].iloc[0] > 3.5 and vehicle['laneId'].iloc[0] - vehicle['laneId'].iloc[-1] > 0:\n",
    "            l_to_r.append(i)\n",
    "        if vehicle['laneId'].iloc[0] > 3.5 and vehicle['laneId'].iloc[0] - vehicle['laneId'].iloc[-1] < 0:\n",
    "            r_to_l.append(i)\n",
    "\n",
    "    return r_to_l, l_to_r\n",
    "\n",
    "r_to_l, l_to_r = get_lane_changed_ID(data)\n",
    "\n",
    "\n",
    "data['lane_change'] = 0\n",
    "data.loc[data['id'].isin(r_to_l), 'lane_change'] = 1\n",
    "data.loc[data['id'].isin(l_to_r), 'lane_change'] = 2\n",
    "\n",
    "columns_to_drop = [\n",
    "    'frontSightDistance', 'backSightDistance', 'dhw', 'thw', 'ttc',\n",
    "    'precedingXVelocity', 'precedingId', 'followingId', 'leftPrecedingId',\n",
    "    'leftAlongsideId', 'leftFollowingId', 'rightPrecedingId', 'rightAlongsideId',\n",
    "    'rightFollowingId', 'laneId', 'width', 'height', 'frame'\n",
    "]\n",
    "data = data.drop(columns_to_drop, axis=1)\n",
    "\n",
    "grouped = data.groupby('id')\n",
    "sequences = [group.drop('id', axis=1).values for _, group in grouped]\n",
    "\n",
    "max_sequence_length = max(len(s) for s in sequences)\n",
    "padded_sequences = pad_sequences(sequences, maxlen=max_sequence_length, padding='post', dtype='float32')\n",
    "\n",
    "# Convert labels to one-hot encoded format\n",
    "labels = np.array([group['lane_change'].iloc[0] for _, group in grouped])\n",
    "one_hot_labels = to_categorical(labels, num_classes=3)\n",
    "\n",
    "X_train, X_test, y_train, y_test = train_test_split(padded_sequences, one_hot_labels, test_size=0.2, random_state=42)\n",
    "\n",
    "model = tf.keras.Sequential([\n",
    "    Bidirectional(tf.keras.layers.LSTM(50, return_sequences=True, input_shape=(max_sequence_length, padded_sequences.shape[2]), dropout=0.2)),\n",
    "    Bidirectional(tf.keras.layers.LSTM(30, dropout=0.2)),\n",
    "    tf.keras.layers.Dense(3, activation='softmax')\n",
    "])\n",
    "\n",
    "def F1Score(y_true, y_pred):\n",
    "    # Calculating Precision\n",
    "    true_positives = K.sum(K.round(K.clip(y_true * y_pred, 0, 1)))\n",
    "    predicted_positives = K.sum(K.round(K.clip(y_pred, 0, 1)))\n",
    "    precision = true_positives / (predicted_positives + K.epsilon())\n",
    "    # Calculating Recall\n",
    "    possible_positives = K.sum(K.round(K.clip(y_true, 0, 1)))\n",
    "    recall = true_positives / (possible_positives + K.epsilon())\n",
    "    # Calculating F1 Score\n",
    "    f1_val = 2*(precision*recall)/(precision+recall+K.epsilon())\n",
    "    return f1_val\n",
    "\n",
    "model.compile(optimizer='adam',\n",
    "              loss='categorical_crossentropy',\n",
    "              metrics=['accuracy', Precision(), Recall(), F1Score])\n",
    "\n",
    "class_weights = {0: 1, 1: 2, 2: 2}\n",
    "\n",
    "history = model.fit(X_train, y_train, epochs=10, batch_size=12, validation_split=0.2, class_weight=class_weights)\n",
    "\n",
    "loss, accuracy, precision, recall, f1_score = model.evaluate(X_test, y_test)\n",
    "print(f\"Test Loss: {loss:.4f}\")\n",
    "print(f\"Test Accuracy: {accuracy*100:.2f}%\")\n",
    "print(f\"Test Precision: {precision*100:.2f}%\")\n",
    "print(f\"Test Recall: {recall*100:.2f}%\")\n",
    "print(f\"Test F1 Score: {f1_score:.4f}\")\n",
    "\n",
    "f1_score = F1Score(y_test, model.predict(X_test))\n",
    "print(f\"Test F1 Score: {f1_score:.4f}\")\n",
    "y_pred = model.predict(X_test)\n",
    "y_pred_classes = np.argmax(y_pred, axis=1)\n",
    "y_true_classes = np.argmax(y_test, axis=1)\n",
    "cm = confusion_matrix(y_true_classes, y_pred_classes)\n",
    "\n",
    "plt.figure(figsize=(10, 7))\n",
    "sns.heatmap(cm, annot=True, fmt='g', cmap='Blues')\n",
    "plt.xlabel('Predicted labels')\n",
    "plt.ylabel('True labels')\n",
    "plt.title('Confusion Matrix')\n",
    "plt.show()"
   ]
  },
  {
   "cell_type": "code",
   "execution_count": 8,
   "metadata": {},
   "outputs": [
    {
     "data": {
      "text/plain": [
       "(731,)"
      ]
     },
     "execution_count": 8,
     "metadata": {},
     "output_type": "execute_result"
    }
   ],
   "source": [
    "np.shape(l_to_r)"
   ]
  },
  {
   "cell_type": "code",
   "execution_count": null,
   "metadata": {},
   "outputs": [],
   "source": []
  }
 ],
 "metadata": {
  "kernelspec": {
   "display_name": "Python 3 (ipykernel)",
   "language": "python",
   "name": "python3"
  },
  "language_info": {
   "codemirror_mode": {
    "name": "ipython",
    "version": 3
   },
   "file_extension": ".py",
   "mimetype": "text/x-python",
   "name": "python",
   "nbconvert_exporter": "python",
   "pygments_lexer": "ipython3",
   "version": "3.10.12"
  }
 },
 "nbformat": 4,
 "nbformat_minor": 4
}
