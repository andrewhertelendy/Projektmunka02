{
 "cells": [
  {
   "cell_type": "code",
   "execution_count": 1,
   "metadata": {},
   "outputs": [
    {
     "name": "stdout",
     "output_type": "stream",
     "text": [
      "[ 90 103 146 160 162 228 241 243 244 268 273 277 290 352 368 372 419 426\n",
      " 427 428 474 500 505 512 514 515 523 538 541 549]\n"
     ]
    }
   ],
   "source": [
    "import pandas as pd\n",
    "\n",
    "# Load the datasets\n",
    "tracks_df = pd.read_csv('Data/29_tracks.csv')\n",
    "book_df = pd.read_csv('Data/Book1.csv')\n",
    "\n",
    "# Preprocess track IDs in Book1.csv to handle multiple IDs in a single cell\n",
    "expanded_rows = []\n",
    "for index, row in book_df.iterrows():\n",
    "    track_ids = str(row['trackId']).split(',')\n",
    "    for track_id in track_ids:\n",
    "        expanded_rows.append({\n",
    "            'trackId': int(track_id.strip()),\n",
    "            'initial_frame': row['initial_frame'],\n",
    "            'ending_frame': row['ending_frame']\n",
    "        })\n",
    "\n",
    "# Convert the expanded list into a DataFrame\n",
    "book_expanded_df = pd.DataFrame(expanded_rows)\n",
    "\n",
    "# Create a mapping from the book dataframe\n",
    "range_mapping = {}\n",
    "for _, row in book_expanded_df.iterrows():\n",
    "    if row['trackId'] not in range_mapping:\n",
    "        range_mapping[row['trackId']] = []\n",
    "    range_mapping[row['trackId']].append((row['initial_frame'], row['ending_frame']))\n",
    "\n",
    "# Label the tracks DataFrame\n",
    "def label_stopped(row):\n",
    "    if row['trackId'] in range_mapping:\n",
    "        for frame_range in range_mapping[row['trackId']]:\n",
    "            if frame_range[0] <= row['frame'] <= frame_range[1]:\n",
    "                return 1\n",
    "    return 0\n",
    "\n",
    "tracks_df['stopped_before_pedestrian'] = tracks_df.apply(label_stopped, axis=1)\n",
    "\n",
    "# Save the updated dataframe\n",
    "tracks_df.to_csv('Data/29_tracks_labeled.csv', index=False)\n",
    "\n",
    "stopped_track_ids = tracks_df[tracks_df['stopped_before_pedestrian'] == 1]['trackId'].unique()\n",
    "\n",
    "print(stopped_track_ids)\n"
   ]
  },
  {
   "cell_type": "code",
   "execution_count": 4,
   "metadata": {},
   "outputs": [
    {
     "name": "stdout",
     "output_type": "stream",
     "text": [
      "Epoch 1/4\n"
     ]
    },
    {
     "name": "stderr",
     "output_type": "stream",
     "text": [
      "2024-05-06 18:01:05.723043: I tensorflow/core/grappler/optimizers/custom_graph_optimizer_registry.cc:114] Plugin optimizer for device_type GPU is enabled.\n",
      "2024-05-06 18:01:05.892361: I tensorflow/core/grappler/optimizers/custom_graph_optimizer_registry.cc:114] Plugin optimizer for device_type GPU is enabled.\n"
     ]
    },
    {
     "name": "stdout",
     "output_type": "stream",
     "text": [
      "    6/20917 [..............................] - ETA: 3:38 - loss: 0.3466 - accuracy: 0.5312   "
     ]
    },
    {
     "name": "stderr",
     "output_type": "stream",
     "text": [
      "2024-05-06 18:01:06.078075: I tensorflow/core/grappler/optimizers/custom_graph_optimizer_registry.cc:114] Plugin optimizer for device_type GPU is enabled.\n"
     ]
    },
    {
     "name": "stdout",
     "output_type": "stream",
     "text": [
      "20917/20917 [==============================] - ETA: 0s - loss: 0.1830 - accuracy: 0.9088"
     ]
    },
    {
     "name": "stderr",
     "output_type": "stream",
     "text": [
      "2024-05-06 18:03:55.676264: I tensorflow/core/grappler/optimizers/custom_graph_optimizer_registry.cc:114] Plugin optimizer for device_type GPU is enabled.\n",
      "2024-05-06 18:03:55.733267: I tensorflow/core/grappler/optimizers/custom_graph_optimizer_registry.cc:114] Plugin optimizer for device_type GPU is enabled.\n"
     ]
    },
    {
     "name": "stdout",
     "output_type": "stream",
     "text": [
      "20917/20917 [==============================] - 189s 9ms/step - loss: 0.1830 - accuracy: 0.9088 - val_loss: 0.1510 - val_accuracy: 0.9366\n",
      "Epoch 2/4\n",
      "20917/20917 [==============================] - 186s 9ms/step - loss: 0.1085 - accuracy: 0.9418 - val_loss: 0.1158 - val_accuracy: 0.9563\n",
      "Epoch 3/4\n",
      "20917/20917 [==============================] - 197s 9ms/step - loss: 0.0900 - accuracy: 0.9550 - val_loss: 0.1272 - val_accuracy: 0.9552\n",
      "Epoch 4/4\n",
      "20917/20917 [==============================] - 186s 9ms/step - loss: 0.0793 - accuracy: 0.9602 - val_loss: 0.1010 - val_accuracy: 0.9625\n",
      "  46/6537 [..............................] - ETA: 14s "
     ]
    },
    {
     "name": "stderr",
     "output_type": "stream",
     "text": [
      "2024-05-06 18:13:44.199565: I tensorflow/core/grappler/optimizers/custom_graph_optimizer_registry.cc:114] Plugin optimizer for device_type GPU is enabled.\n",
      "2024-05-06 18:13:44.243365: I tensorflow/core/grappler/optimizers/custom_graph_optimizer_registry.cc:114] Plugin optimizer for device_type GPU is enabled.\n"
     ]
    },
    {
     "name": "stdout",
     "output_type": "stream",
     "text": [
      "6537/6537 [==============================] - 16s 2ms/step\n"
     ]
    },
    {
     "data": {
      "image/png": "[encoded data removed]",
      "text/plain": [
       "<Figure size 640x480 with 2 Axes>"
      ]
     },
     "metadata": {},
     "output_type": "display_data"
    }
   ],
   "source": [
    "import numpy as np\n",
    "import pandas as pd\n",
    "from sklearn.model_selection import train_test_split\n",
    "from sklearn.preprocessing import StandardScaler\n",
    "from sklearn.metrics import confusion_matrix, ConfusionMatrixDisplay\n",
    "from sklearn.utils.class_weight import compute_class_weight\n",
    "import tensorflow as tf\n",
    "from tensorflow.keras.models import Sequential\n",
    "from tensorflow.keras.layers import LSTM, Dense\n",
    "import matplotlib.pyplot as plt\n",
    "\n",
    "# Load data\n",
    "data = pd.read_csv('Data/29_tracks_labeled.csv')\n",
    "\n",
    "# Assuming '29_tracks.csv' has been properly labeled and contains the 'stopped_before_pedestrian' column\n",
    "features = data[['xCenter', 'yCenter', 'xVelocity', 'yVelocity', 'xAcceleration', 'yAcceleration']]\n",
    "labels = data['stopped_before_pedestrian']\n",
    "\n",
    "# Normalize features\n",
    "scaler = StandardScaler()\n",
    "features = scaler.fit_transform(features)\n",
    "\n",
    "# Reshape data for LSTM: [samples, time_steps, features]\n",
    "# This is an example; you might need to adjust time_steps based on your actual data organization\n",
    "features = features.reshape((data.shape[0], 1, features.shape[1]))\n",
    "\n",
    "# Split the dataset\n",
    "X_train, X_test, y_train, y_test = train_test_split(features, labels, test_size=0.2, random_state=42)\n",
    "\n",
    "class_weights = compute_class_weight('balanced', classes=np.unique(y_train), y=y_train)\n",
    "class_weight_dict = dict(enumerate(class_weights))\n",
    "# Build the LSTM model\n",
    "model = Sequential([\n",
    "    LSTM(50, input_shape=(features.shape[1], features.shape[2])),\n",
    "    Dense(1, activation='sigmoid')\n",
    "])\n",
    "\n",
    "model.compile(optimizer='adam', loss='binary_crossentropy', metrics=['accuracy'])\n",
    "\n",
    "# Train the model\n",
    "model.fit(X_train, y_train, epochs=4, batch_size=32, validation_split=0.2 , class_weight=class_weight_dict)\n",
    "\n",
    "# Predictions\n",
    "y_pred = model.predict(X_test)\n",
    "y_pred = (y_pred > 0.5).astype(int)\n",
    "\n",
    "# Confusion Matrix\n",
    "cm = confusion_matrix(y_test, y_pred)\n",
    "disp = ConfusionMatrixDisplay(confusion_matrix=cm)\n",
    "disp.plot()\n",
    "plt.show()\n"
   ]
  }
 ],
 "metadata": {
  "kernelspec": {
   "display_name": "Python 3",
   "language": "python",
   "name": "python3"
  },
  "language_info": {
   "codemirror_mode": {
    "name": "ipython",
    "version": 3
   },
   "file_extension": ".py",
   "mimetype": "text/x-python",
   "name": "python",
   "nbconvert_exporter": "python",
   "pygments_lexer": "ipython3",
   "version": "3.8.19"
  }
 },
 "nbformat": 4,
 "nbformat_minor": 2
}
