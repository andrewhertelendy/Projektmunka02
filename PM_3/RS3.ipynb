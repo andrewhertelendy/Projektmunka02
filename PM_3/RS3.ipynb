{
 "cells": [
  {
   "cell_type": "code",
   "execution_count": 3,
   "metadata": {},
   "outputs": [
    {
     "name": "stdout",
     "output_type": "stream",
     "text": [
      "Epoch 1/10\n"
     ]
    },
    {
     "name": "stderr",
     "output_type": "stream",
     "text": [
      "2024-05-15 22:45:45.113589: I tensorflow/core/grappler/optimizers/custom_graph_optimizer_registry.cc:114] Plugin optimizer for device_type GPU is enabled.\n",
      "2024-05-15 22:45:45.254765: I tensorflow/core/grappler/optimizers/custom_graph_optimizer_registry.cc:114] Plugin optimizer for device_type GPU is enabled.\n"
     ]
    },
    {
     "name": "stdout",
     "output_type": "stream",
     "text": [
      "   7/4984 [..............................] - ETA: 46s - loss: 0.6881 - accuracy: 0.5312    "
     ]
    },
    {
     "name": "stderr",
     "output_type": "stream",
     "text": [
      "2024-05-15 22:45:45.401204: I tensorflow/core/grappler/optimizers/custom_graph_optimizer_registry.cc:114] Plugin optimizer for device_type GPU is enabled.\n"
     ]
    },
    {
     "name": "stdout",
     "output_type": "stream",
     "text": [
      "4984/4984 [==============================] - ETA: 0s - loss: 0.0974 - accuracy: 0.9666"
     ]
    },
    {
     "name": "stderr",
     "output_type": "stream",
     "text": [
      "2024-05-15 22:46:26.228526: I tensorflow/core/grappler/optimizers/custom_graph_optimizer_registry.cc:114] Plugin optimizer for device_type GPU is enabled.\n",
      "2024-05-15 22:46:26.283159: I tensorflow/core/grappler/optimizers/custom_graph_optimizer_registry.cc:114] Plugin optimizer for device_type GPU is enabled.\n"
     ]
    },
    {
     "name": "stdout",
     "output_type": "stream",
     "text": [
      "4984/4984 [==============================] - 46s 9ms/step - loss: 0.0974 - accuracy: 0.9666 - val_loss: 0.0296 - val_accuracy: 0.9979\n",
      "Epoch 2/10\n",
      "4984/4984 [==============================] - 44s 9ms/step - loss: 0.0294 - accuracy: 0.9926 - val_loss: 0.0155 - val_accuracy: 0.9995\n",
      "Epoch 3/10\n",
      "4984/4984 [==============================] - 44s 9ms/step - loss: 0.0224 - accuracy: 0.9947 - val_loss: 0.0149 - val_accuracy: 0.9997\n",
      "Epoch 4/10\n",
      "4984/4984 [==============================] - 44s 9ms/step - loss: 0.0185 - accuracy: 0.9955 - val_loss: 0.0113 - val_accuracy: 0.9999\n",
      "Epoch 5/10\n",
      "4984/4984 [==============================] - 44s 9ms/step - loss: 0.0156 - accuracy: 0.9961 - val_loss: 0.0089 - val_accuracy: 1.0000\n",
      "Epoch 6/10\n",
      "4984/4984 [==============================] - 44s 9ms/step - loss: 0.0133 - accuracy: 0.9967 - val_loss: 0.0102 - val_accuracy: 1.0000\n",
      "Epoch 7/10\n",
      "4984/4984 [==============================] - 44s 9ms/step - loss: 0.0118 - accuracy: 0.9972 - val_loss: 0.0070 - val_accuracy: 1.0000\n",
      "Epoch 8/10\n",
      "4984/4984 [==============================] - 44s 9ms/step - loss: 0.0106 - accuracy: 0.9975 - val_loss: 0.0050 - val_accuracy: 1.0000\n",
      "Epoch 9/10\n",
      "4984/4984 [==============================] - 44s 9ms/step - loss: 0.0097 - accuracy: 0.9978 - val_loss: 0.0039 - val_accuracy: 1.0000\n",
      "Epoch 10/10\n",
      "4984/4984 [==============================] - 44s 9ms/step - loss: 0.0090 - accuracy: 0.9980 - val_loss: 0.0038 - val_accuracy: 1.0000\n",
      "  42/2767 [..............................] - ETA: 6s"
     ]
    },
    {
     "name": "stderr",
     "output_type": "stream",
     "text": [
      "2024-05-15 22:53:07.151796: I tensorflow/core/grappler/optimizers/custom_graph_optimizer_registry.cc:114] Plugin optimizer for device_type GPU is enabled.\n",
      "2024-05-15 22:53:07.194362: I tensorflow/core/grappler/optimizers/custom_graph_optimizer_registry.cc:114] Plugin optimizer for device_type GPU is enabled.\n"
     ]
    },
    {
     "name": "stdout",
     "output_type": "stream",
     "text": [
      "2767/2767 [==============================] - 7s 2ms/step\n"
     ]
    },
    {
     "data": {
      "image/png": "[encoded data removed]",
      "text/plain": [
       "<Figure size 640x480 with 2 Axes>"
      ]
     },
     "metadata": {},
     "output_type": "display_data"
    }
   ],
   "source": [
    "import numpy as np\n",
    "import pandas as pd\n",
    "from sklearn.model_selection import train_test_split\n",
    "from sklearn.preprocessing import StandardScaler\n",
    "from sklearn.metrics import confusion_matrix, ConfusionMatrixDisplay\n",
    "from sklearn.utils.class_weight import compute_class_weight\n",
    "from imblearn.over_sampling import SMOTE\n",
    "import tensorflow as tf\n",
    "from tensorflow.keras.models import Sequential\n",
    "from tensorflow.keras.layers import LSTM, Dense\n",
    "from tensorflow.keras.callbacks import EarlyStopping\n",
    "import matplotlib.pyplot as plt\n",
    "\n",
    "# Load manually selected training and testing CSV files\n",
    "train_files = ['Data/28_tracks_labeled.csv', 'Data/27_tracks_labeled.csv']  # Add your training files here\n",
    "test_files = ['Data/26_tracks_labeled.csv']  # Add your testing files here\n",
    "\n",
    "# Load and concatenate training data\n",
    "train_data = pd.concat([pd.read_csv(file) for file in train_files], ignore_index=True)\n",
    "\n",
    "# Load and concatenate testing data\n",
    "test_data = pd.concat([pd.read_csv(file) for file in test_files], ignore_index=True)\n",
    "\n",
    "# Sampling data (e.g., 10% of the original size)\n",
    "train_data = train_data.sample(frac=0.1, random_state=42)\n",
    "test_data = test_data.sample(frac=0.1, random_state=42)\n",
    "\n",
    "# Assuming the datasets have been properly labeled and contain the 'stopped_before_pedestrian' column\n",
    "features_cols = ['xCenter', 'yCenter', 'xVelocity', 'yVelocity', 'xAcceleration', 'yAcceleration', 'lonVelocity', 'latVelocity', 'lonAcceleration', 'latAcceleration']\n",
    "\n",
    "# Split features and labels for training data\n",
    "X_train = train_data[features_cols]\n",
    "y_train = train_data['stopped_before_pedestrian']\n",
    "\n",
    "# Split features and labels for testing data\n",
    "X_test = test_data[features_cols]\n",
    "y_test = test_data['stopped_before_pedestrian']\n",
    "\n",
    "# Normalize features\n",
    "scaler = StandardScaler()\n",
    "X_train = scaler.fit_transform(X_train)\n",
    "X_test = scaler.transform(X_test)\n",
    "\n",
    "# Apply SMOTE to balance the training data\n",
    "smote = SMOTE(random_state=42)\n",
    "X_train_resampled, y_train_resampled = smote.fit_resample(X_train, y_train)\n",
    "\n",
    "# Reshape data for LSTM: [samples, time_steps, features]\n",
    "X_train_resampled = X_train_resampled.reshape((X_train_resampled.shape[0], 1, X_train_resampled.shape[1]))\n",
    "X_test = X_test.reshape((X_test.shape[0], 1, X_test.shape[1]))\n",
    "\n",
    "# Compute class weights for resampled data\n",
    "class_weights_resampled = compute_class_weight('balanced', classes=np.unique(y_train_resampled), y=y_train_resampled)\n",
    "class_weight_dict_resampled = dict(enumerate(class_weights_resampled))\n",
    "\n",
    "# Build the LSTM model\n",
    "model = Sequential([\n",
    "    LSTM(50, input_shape=(X_train_resampled.shape[1], X_train_resampled.shape[2])),  # Increased number of units\n",
    "    Dense(1, activation='sigmoid')\n",
    "])\n",
    "\n",
    "model.compile(optimizer='adam', loss='binary_crossentropy', metrics=['accuracy'])\n",
    "\n",
    "# Early stopping to prevent overfitting\n",
    "early_stopping = EarlyStopping(monitor='val_loss', patience=3)\n",
    "\n",
    "# Train the model\n",
    "model.fit(X_train_resampled, y_train_resampled, epochs=10, batch_size=64, validation_split=0.2, class_weight=class_weight_dict_resampled, callbacks=[early_stopping])\n",
    "\n",
    "# Predictions\n",
    "y_pred = model.predict(X_test)\n",
    "y_pred = (y_pred > 0.5).astype(int)\n",
    "\n",
    "# Confusion Matrix\n",
    "cm = confusion_matrix(y_test, y_pred)\n",
    "disp = ConfusionMatrixDisplay(confusion_matrix=cm)\n",
    "disp.plot()\n",
    "plt.show()\n"
   ]
  }
 ],
 "metadata": {
  "kernelspec": {
   "display_name": "Python 3",
   "language": "python",
   "name": "python3"
  },
  "language_info": {
   "codemirror_mode": {
    "name": "ipython",
    "version": 3
   },
   "file_extension": ".py",
   "mimetype": "text/x-python",
   "name": "python",
   "nbconvert_exporter": "python",
   "pygments_lexer": "ipython3",
   "version": "3.8.19"
  }
 },
 "nbformat": 4,
 "nbformat_minor": 2
}
