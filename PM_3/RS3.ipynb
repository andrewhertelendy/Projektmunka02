{
 "cells": [
  {
   "cell_type": "code",
   "execution_count": 10,
   "metadata": {},
   "outputs": [
    {
     "name": "stdout",
     "output_type": "stream",
     "text": [
      "[ 90 103 146 160 162 228 241 243 244 268 273 277 290 352 368 372 419 426\n",
      " 427 428 474 500 505 512 514 515 523 538 541 549]\n"
     ]
    }
   ],
   "source": [
    "import pandas as pd\n",
    "\n",
    "# Load the datasets\n",
    "tracks_df = pd.read_csv('Data/29_tracks.csv')\n",
    "book_df = pd.read_csv('Data/Book1.csv')\n",
    "\n",
    "# Preprocess track IDs in Book1.csv to handle multiple IDs in a single cell\n",
    "expanded_rows = []\n",
    "for index, row in book_df.iterrows():\n",
    "    track_ids = str(row['trackId']).split(',')\n",
    "    for track_id in track_ids:\n",
    "        expanded_rows.append({\n",
    "            'trackId': int(track_id.strip()),\n",
    "            'initial_frame': row['initial_frame'],\n",
    "            'ending_frame': row['ending_frame']\n",
    "        })\n",
    "\n",
    "# Convert the expanded list into a DataFrame\n",
    "book_expanded_df = pd.DataFrame(expanded_rows)\n",
    "\n",
    "# Create a mapping from the book dataframe\n",
    "range_mapping = {}\n",
    "for _, row in book_expanded_df.iterrows():\n",
    "    if row['trackId'] not in range_mapping:\n",
    "        range_mapping[row['trackId']] = []\n",
    "    range_mapping[row['trackId']].append((row['initial_frame'], row['ending_frame']))\n",
    "\n",
    "# Label the tracks DataFrame\n",
    "def label_stopped(row):\n",
    "    if row['trackId'] in range_mapping:\n",
    "        for frame_range in range_mapping[row['trackId']]:\n",
    "            if frame_range[0] <= row['frame'] <= frame_range[1]:\n",
    "                return 1\n",
    "    return 0\n",
    "\n",
    "tracks_df['stopped_before_pedestrian'] = tracks_df.apply(label_stopped, axis=1)\n",
    "\n",
    "# Save the updated dataframe\n",
    "tracks_df.to_csv('29_tracks_labeled.csv', index=False)\n",
    "\n",
    "stopped_track_ids = tracks_df[tracks_df['stopped_before_pedestrian'] == 1]['trackId'].unique()\n",
    "\n",
    "print(stopped_track_ids)\n"
   ]
  },
  {
   "cell_type": "code",
   "execution_count": null,
   "metadata": {},
   "outputs": [],
   "source": []
  }
 ],
 "metadata": {
  "kernelspec": {
   "display_name": "Python 3",
   "language": "python",
   "name": "python3"
  },
  "language_info": {
   "codemirror_mode": {
    "name": "ipython",
    "version": 3
   },
   "file_extension": ".py",
   "mimetype": "text/x-python",
   "name": "python",
   "nbconvert_exporter": "python",
   "pygments_lexer": "ipython3",
   "version": "3.8.19"
  }
 },
 "nbformat": 4,
 "nbformat_minor": 2
}
