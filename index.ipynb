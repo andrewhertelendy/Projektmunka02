{
 "cells": [
  {
   "cell_type": "code",
   "execution_count": 1,
   "metadata": {},
   "outputs": [],
   "source": [
    "import pandas as pd\n",
    "\n",
    "# Load the CSV data into a DataFrame\n",
    "df = pd.read_csv('01_tracks.csv')\n",
    "\n",
    "# Check for any missing values in the DataFrame\n",
    "if df.isnull().values.any():\n",
    "    # Handle missing values here\n",
    "    # For example, you can fill missing values with a placeholder or the mean of the column\n",
    "    df = df.fillna(0)  # Replace with your desired method\n",
    "\n",
    "# Check for duplicates based on all columns\n",
    "if df.duplicated().any():\n",
    "    # Drop duplicates\n",
    "    df = df.drop_duplicates()\n",
    "\n",
    "# Normalize numerical data (if needed)\n",
    "# For example, you could scale the velocity and acceleration columns to a range between 0 and 1\n",
    "# from sklearn.preprocessing import MinMaxScaler\n",
    "# scaler = MinMaxScaler()\n",
    "# columns_to_scale = ['xVelocity', 'yVelocity', 'xAcceleration', 'yAcceleration']\n",
    "# df[columns_to_scale] = scaler.fit_transform(df[columns_to_scale])\n",
    "\n",
    "# Convert data types if necessary (for example, if the IDs are floats but should be integers)\n",
    "df['id'] = df['id'].astype(int)\n",
    "df['precedingId'] = df['precedingId'].astype(int)\n",
    "df['followingId'] = df['followingId'].astype(int)\n",
    "df['leftPrecedingId'] = df['leftPrecedingId'].astype(int)\n",
    "df['leftAlongsideId'] = df['leftAlongsideId'].astype(int)\n",
    "df['leftFollowingId'] = df['leftFollowingId'].astype(int)\n",
    "df['rightPrecedingId'] = df['rightPrecedingId'].astype(int)\n",
    "df['rightAlongsideId'] = df['rightAlongsideId'].astype(int)\n",
    "df['rightFollowingId'] = df['rightFollowingId'].astype(int)\n",
    "df['laneId'] = df['laneId'].astype(int)\n",
    "\n",
    "# After cleaning, save the cleaned DataFrame to a new CSV file\n",
    "df.to_csv('cleaned_data.csv', index=False)\n"
   ]
  }
 ],
 "metadata": {
  "kernelspec": {
   "display_name": "Python 3",
   "language": "python",
   "name": "python3"
  },
  "language_info": {
   "codemirror_mode": {
    "name": "ipython",
    "version": 3
   },
   "file_extension": ".py",
   "mimetype": "text/x-python",
   "name": "python",
   "nbconvert_exporter": "python",
   "pygments_lexer": "ipython3",
   "version": "3.8.16"
  }
 },
 "nbformat": 4,
 "nbformat_minor": 2
}
